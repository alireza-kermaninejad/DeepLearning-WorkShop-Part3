{
 "cells": [
  {
   "cell_type": "code",
   "execution_count": 1,
   "id": "e36b2503",
   "metadata": {},
   "outputs": [],
   "source": [
    "import tensorflow as tf\n",
    "import numpy as np\n",
    "import pandas as pd\n",
    "import os,time\n",
    "import csv\n",
    "import cv2\n",
    "import glob\n",
    "import pathlib\n",
    "from PIL import Image\n",
    "from tensorflow.keras.layers import Input\n",
    "from sklearn.preprocessing import LabelBinarizer\n",
    "from tensorflow.keras.preprocessing.image import img_to_array\n",
    "from tensorflow.keras.preprocessing.image import load_img\n",
    "from sklearn.model_selection import train_test_split\n",
    "import matplotlib.pyplot as plt"
   ]
  },
  {
   "cell_type": "code",
   "execution_count": 2,
   "id": "2a47d8a4",
   "metadata": {},
   "outputs": [],
   "source": [
    "corrupt_img_dir = \"C://Users//Peyton//Documents//WorkShop_Part3//car_images//corrupt_images//\"\n",
    "inside_car_img_dir = \"C://Users//Peyton//Documents//WorkShop_Part3//car_images//good_images//inside_cars//\""
   ]
  },
  {
   "cell_type": "code",
   "execution_count": 3,
   "id": "b4379547",
   "metadata": {},
   "outputs": [],
   "source": [
    "corrupted_images_list = []\n",
    "\n",
    "for root, dirs, files in os.walk(corrupt_img_dir):\n",
    "    for file in files:\n",
    "        if file.endswith(\".jpg\"):\n",
    "             currentFile = os.path.join(root, file)\n",
    "             basename = int(os.path.basename(currentFile).removesuffix('.jpg')) - 1\n",
    "             corrupted_images_list.append(basename)"
   ]
  },
  {
   "cell_type": "code",
   "execution_count": 4,
   "id": "002d117f",
   "metadata": {},
   "outputs": [
    {
     "name": "stdout",
     "output_type": "stream",
     "text": [
      "Number of Corrupted images: 67827\n"
     ]
    }
   ],
   "source": [
    "corrupted_images_list.sort()\n",
    "print(\"Number of Corrupted images: \" + str(len(corrupted_images_list)))"
   ]
  },
  {
   "cell_type": "code",
   "execution_count": 5,
   "id": "146a878c",
   "metadata": {},
   "outputs": [],
   "source": [
    "inside_images_list = []\n",
    "\n",
    "for root, dirs, files in os.walk(inside_car_img_dir):\n",
    "    for file in files:\n",
    "        if file.endswith(\".jpg\"):\n",
    "             currentFile = os.path.join(root, file)\n",
    "             basename = int(os.path.basename(currentFile).removesuffix('.jpg')) - 1\n",
    "             inside_images_list.append(basename)"
   ]
  },
  {
   "cell_type": "code",
   "execution_count": 6,
   "id": "51ad23bb",
   "metadata": {},
   "outputs": [
    {
     "name": "stdout",
     "output_type": "stream",
     "text": [
      "Number of Inside car images: 9700\n"
     ]
    }
   ],
   "source": [
    "inside_images_list.sort()\n",
    "print(\"Number of Inside car images: \" + str(len(inside_images_list)))"
   ]
  },
  {
   "cell_type": "code",
   "execution_count": 7,
   "id": "d3dbe958",
   "metadata": {},
   "outputs": [
    {
     "name": "stdout",
     "output_type": "stream",
     "text": [
      "Total Number of images we should Remove : 77527\n"
     ]
    }
   ],
   "source": [
    "removing_image_list = corrupted_images_list + inside_images_list\n",
    "removing_image_list.sort()\n",
    "print(\"Total Number of images we should Remove : \" + str(len(removing_image_list)))"
   ]
  },
  {
   "cell_type": "code",
   "execution_count": 8,
   "id": "a5232326",
   "metadata": {},
   "outputs": [
    {
     "data": {
      "text/html": [
       "<div>\n",
       "<style scoped>\n",
       "    .dataframe tbody tr th:only-of-type {\n",
       "        vertical-align: middle;\n",
       "    }\n",
       "\n",
       "    .dataframe tbody tr th {\n",
       "        vertical-align: top;\n",
       "    }\n",
       "\n",
       "    .dataframe thead th {\n",
       "        text-align: right;\n",
       "    }\n",
       "</style>\n",
       "<table border=\"1\" class=\"dataframe\">\n",
       "  <thead>\n",
       "    <tr style=\"text-align: right;\">\n",
       "      <th></th>\n",
       "      <th>URL</th>\n",
       "      <th>Name</th>\n",
       "      <th>Model</th>\n",
       "      <th>Production_Year</th>\n",
       "      <th>Color</th>\n",
       "      <th>Inside_Color</th>\n",
       "    </tr>\n",
       "  </thead>\n",
       "  <tbody>\n",
       "    <tr>\n",
       "      <th>0</th>\n",
       "      <td>https://cdn.bama.ir/uploads/BamaImages/Vehicle...</td>\n",
       "      <td>هیوندای</td>\n",
       "      <td>اکسنت (مونتاژ)</td>\n",
       "      <td>1397</td>\n",
       "      <td>سفید</td>\n",
       "      <td>داخل مشکی</td>\n",
       "    </tr>\n",
       "    <tr>\n",
       "      <th>1</th>\n",
       "      <td>https://cdn.bama.ir/uploads/BamaImages/Vehicle...</td>\n",
       "      <td>هیوندای</td>\n",
       "      <td>اکسنت (مونتاژ)</td>\n",
       "      <td>1397</td>\n",
       "      <td>سفید</td>\n",
       "      <td>داخل مشکی</td>\n",
       "    </tr>\n",
       "    <tr>\n",
       "      <th>2</th>\n",
       "      <td>https://cdn.bama.ir/uploads/BamaImages/Vehicle...</td>\n",
       "      <td>هیوندای</td>\n",
       "      <td>اکسنت (مونتاژ)</td>\n",
       "      <td>1397</td>\n",
       "      <td>سفید</td>\n",
       "      <td>داخل مشکی</td>\n",
       "    </tr>\n",
       "    <tr>\n",
       "      <th>3</th>\n",
       "      <td>https://cdn.bama.ir/uploads/BamaImages/Vehicle...</td>\n",
       "      <td>هیوندای</td>\n",
       "      <td>اکسنت (مونتاژ)</td>\n",
       "      <td>1397</td>\n",
       "      <td>سفید</td>\n",
       "      <td>داخل مشکی</td>\n",
       "    </tr>\n",
       "    <tr>\n",
       "      <th>4</th>\n",
       "      <td>https://cdn.bama.ir/uploads/BamaImages/Vehicle...</td>\n",
       "      <td>هیوندای</td>\n",
       "      <td>اکسنت (مونتاژ)</td>\n",
       "      <td>1397</td>\n",
       "      <td>مشکی</td>\n",
       "      <td>داخل مشکی</td>\n",
       "    </tr>\n",
       "    <tr>\n",
       "      <th>...</th>\n",
       "      <td>...</td>\n",
       "      <td>...</td>\n",
       "      <td>...</td>\n",
       "      <td>...</td>\n",
       "      <td>...</td>\n",
       "      <td>...</td>\n",
       "    </tr>\n",
       "    <tr>\n",
       "      <th>92403</th>\n",
       "      <td>https://cdn.bama.ir/uploads/BamaImages/Vehicle...</td>\n",
       "      <td>هیوندای</td>\n",
       "      <td>سانتافه (ix45)</td>\n",
       "      <td>2015</td>\n",
       "      <td>سفید</td>\n",
       "      <td>داخل مشکی</td>\n",
       "    </tr>\n",
       "    <tr>\n",
       "      <th>92404</th>\n",
       "      <td>https://cdn.bama.ir/uploads/BamaImages/Vehicle...</td>\n",
       "      <td>هیوندای</td>\n",
       "      <td>سانتافه (ix45)</td>\n",
       "      <td>2015</td>\n",
       "      <td>سفید</td>\n",
       "      <td>داخل مشکی</td>\n",
       "    </tr>\n",
       "    <tr>\n",
       "      <th>92405</th>\n",
       "      <td>https://cdn.bama.ir/uploads/BamaImages/Vehicle...</td>\n",
       "      <td>هیوندای</td>\n",
       "      <td>سانتافه (ix45)</td>\n",
       "      <td>2015</td>\n",
       "      <td>سفید</td>\n",
       "      <td>داخل مشکی</td>\n",
       "    </tr>\n",
       "    <tr>\n",
       "      <th>92406</th>\n",
       "      <td>https://cdn.bama.ir/uploads/BamaImages/Vehicle...</td>\n",
       "      <td>رانا</td>\n",
       "      <td>پلاس پانوراما</td>\n",
       "      <td>1400</td>\n",
       "      <td>سفید</td>\n",
       "      <td>داخل مشکی</td>\n",
       "    </tr>\n",
       "    <tr>\n",
       "      <th>92407</th>\n",
       "      <td>https://cdn.bama.ir/uploads/BamaImages/Vehicle...</td>\n",
       "      <td>سمند</td>\n",
       "      <td>سورن</td>\n",
       "      <td>1400</td>\n",
       "      <td>سفید</td>\n",
       "      <td>داخل مشکی</td>\n",
       "    </tr>\n",
       "  </tbody>\n",
       "</table>\n",
       "<p>92408 rows × 6 columns</p>\n",
       "</div>"
      ],
      "text/plain": [
       "                                                     URL     Name  \\\n",
       "0      https://cdn.bama.ir/uploads/BamaImages/Vehicle...  هیوندای   \n",
       "1      https://cdn.bama.ir/uploads/BamaImages/Vehicle...  هیوندای   \n",
       "2      https://cdn.bama.ir/uploads/BamaImages/Vehicle...  هیوندای   \n",
       "3      https://cdn.bama.ir/uploads/BamaImages/Vehicle...  هیوندای   \n",
       "4      https://cdn.bama.ir/uploads/BamaImages/Vehicle...  هیوندای   \n",
       "...                                                  ...      ...   \n",
       "92403  https://cdn.bama.ir/uploads/BamaImages/Vehicle...  هیوندای   \n",
       "92404  https://cdn.bama.ir/uploads/BamaImages/Vehicle...  هیوندای   \n",
       "92405  https://cdn.bama.ir/uploads/BamaImages/Vehicle...  هیوندای   \n",
       "92406  https://cdn.bama.ir/uploads/BamaImages/Vehicle...     رانا   \n",
       "92407  https://cdn.bama.ir/uploads/BamaImages/Vehicle...     سمند   \n",
       "\n",
       "                 Model  Production_Year Color Inside_Color  \n",
       "0       اکسنت (مونتاژ)             1397  سفید    داخل مشکی  \n",
       "1       اکسنت (مونتاژ)             1397  سفید    داخل مشکی  \n",
       "2       اکسنت (مونتاژ)             1397  سفید    داخل مشکی  \n",
       "3       اکسنت (مونتاژ)             1397  سفید    داخل مشکی  \n",
       "4       اکسنت (مونتاژ)             1397  مشکی    داخل مشکی  \n",
       "...                ...              ...   ...          ...  \n",
       "92403   سانتافه (ix45)             2015  سفید    داخل مشکی  \n",
       "92404   سانتافه (ix45)             2015  سفید    داخل مشکی  \n",
       "92405   سانتافه (ix45)             2015  سفید    داخل مشکی  \n",
       "92406    پلاس پانوراما             1400  سفید    داخل مشکی  \n",
       "92407             سورن             1400  سفید    داخل مشکی  \n",
       "\n",
       "[92408 rows x 6 columns]"
      ]
     },
     "execution_count": 8,
     "metadata": {},
     "output_type": "execute_result"
    }
   ],
   "source": [
    "CSV_PATH = \"C:/Users/Peyton/Documents/WorkShop_Part3/listofcars.csv\"\n",
    "colnames = ['URL', 'Name', 'Model', 'Production_Year', 'Color', 'Inside_Color'] \n",
    "df = pd.read_csv(CSV_PATH, names=colnames, header=None)\n",
    "df"
   ]
  },
  {
   "cell_type": "code",
   "execution_count": 9,
   "id": "81614de2",
   "metadata": {},
   "outputs": [
    {
     "data": {
      "text/html": [
       "<div>\n",
       "<style scoped>\n",
       "    .dataframe tbody tr th:only-of-type {\n",
       "        vertical-align: middle;\n",
       "    }\n",
       "\n",
       "    .dataframe tbody tr th {\n",
       "        vertical-align: top;\n",
       "    }\n",
       "\n",
       "    .dataframe thead th {\n",
       "        text-align: right;\n",
       "    }\n",
       "</style>\n",
       "<table border=\"1\" class=\"dataframe\">\n",
       "  <thead>\n",
       "    <tr style=\"text-align: right;\">\n",
       "      <th></th>\n",
       "      <th>Color</th>\n",
       "    </tr>\n",
       "  </thead>\n",
       "  <tbody>\n",
       "    <tr>\n",
       "      <th>0</th>\n",
       "      <td>سفید</td>\n",
       "    </tr>\n",
       "    <tr>\n",
       "      <th>1</th>\n",
       "      <td>سفید</td>\n",
       "    </tr>\n",
       "    <tr>\n",
       "      <th>2</th>\n",
       "      <td>سفید</td>\n",
       "    </tr>\n",
       "    <tr>\n",
       "      <th>3</th>\n",
       "      <td>سفید</td>\n",
       "    </tr>\n",
       "    <tr>\n",
       "      <th>4</th>\n",
       "      <td>مشکی</td>\n",
       "    </tr>\n",
       "    <tr>\n",
       "      <th>...</th>\n",
       "      <td>...</td>\n",
       "    </tr>\n",
       "    <tr>\n",
       "      <th>92403</th>\n",
       "      <td>سفید</td>\n",
       "    </tr>\n",
       "    <tr>\n",
       "      <th>92404</th>\n",
       "      <td>سفید</td>\n",
       "    </tr>\n",
       "    <tr>\n",
       "      <th>92405</th>\n",
       "      <td>سفید</td>\n",
       "    </tr>\n",
       "    <tr>\n",
       "      <th>92406</th>\n",
       "      <td>سفید</td>\n",
       "    </tr>\n",
       "    <tr>\n",
       "      <th>92407</th>\n",
       "      <td>سفید</td>\n",
       "    </tr>\n",
       "  </tbody>\n",
       "</table>\n",
       "<p>92408 rows × 1 columns</p>\n",
       "</div>"
      ],
      "text/plain": [
       "      Color\n",
       "0      سفید\n",
       "1      سفید\n",
       "2      سفید\n",
       "3      سفید\n",
       "4      مشکی\n",
       "...     ...\n",
       "92403  سفید\n",
       "92404  سفید\n",
       "92405  سفید\n",
       "92406  سفید\n",
       "92407  سفید\n",
       "\n",
       "[92408 rows x 1 columns]"
      ]
     },
     "execution_count": 9,
     "metadata": {},
     "output_type": "execute_result"
    }
   ],
   "source": [
    "CSV_PATH = \"C:/Users/Peyton/Documents/WorkShop_Part3/listofcars.csv\"\n",
    "colnames = ['URL', 'Name', 'Model', 'Production_Year', 'Color', 'Inside_Color'] \n",
    "df_color = pd.read_csv(CSV_PATH, usecols=[\"Color\"], dtype={\"Color\": \"category\"}, names=colnames, header=None)\n",
    "df_color"
   ]
  },
  {
   "cell_type": "code",
   "execution_count": 10,
   "id": "15f81ac2",
   "metadata": {},
   "outputs": [],
   "source": [
    "# Remove the images information from csv file\n",
    "counter = 0\n",
    "for i in removing_image_list:\n",
    "    i = i - counter\n",
    "    df_color.drop(df_color.index[i], inplace=True)\n",
    "    counter = counter + 1"
   ]
  },
  {
   "cell_type": "code",
   "execution_count": 11,
   "id": "f49984a2",
   "metadata": {},
   "outputs": [
    {
     "data": {
      "text/html": [
       "<div>\n",
       "<style scoped>\n",
       "    .dataframe tbody tr th:only-of-type {\n",
       "        vertical-align: middle;\n",
       "    }\n",
       "\n",
       "    .dataframe tbody tr th {\n",
       "        vertical-align: top;\n",
       "    }\n",
       "\n",
       "    .dataframe thead th {\n",
       "        text-align: right;\n",
       "    }\n",
       "</style>\n",
       "<table border=\"1\" class=\"dataframe\">\n",
       "  <thead>\n",
       "    <tr style=\"text-align: right;\">\n",
       "      <th></th>\n",
       "      <th>Color</th>\n",
       "    </tr>\n",
       "  </thead>\n",
       "  <tbody>\n",
       "    <tr>\n",
       "      <th>16</th>\n",
       "      <td>سفید</td>\n",
       "    </tr>\n",
       "    <tr>\n",
       "      <th>17</th>\n",
       "      <td>سفید</td>\n",
       "    </tr>\n",
       "    <tr>\n",
       "      <th>18</th>\n",
       "      <td>سفید</td>\n",
       "    </tr>\n",
       "    <tr>\n",
       "      <th>20</th>\n",
       "      <td>سفید</td>\n",
       "    </tr>\n",
       "    <tr>\n",
       "      <th>23</th>\n",
       "      <td>سفید</td>\n",
       "    </tr>\n",
       "    <tr>\n",
       "      <th>...</th>\n",
       "      <td>...</td>\n",
       "    </tr>\n",
       "    <tr>\n",
       "      <th>92382</th>\n",
       "      <td>مشکی</td>\n",
       "    </tr>\n",
       "    <tr>\n",
       "      <th>92396</th>\n",
       "      <td>خاکستری</td>\n",
       "    </tr>\n",
       "    <tr>\n",
       "      <th>92397</th>\n",
       "      <td>خاکستری</td>\n",
       "    </tr>\n",
       "    <tr>\n",
       "      <th>92398</th>\n",
       "      <td>خاکستری</td>\n",
       "    </tr>\n",
       "    <tr>\n",
       "      <th>92400</th>\n",
       "      <td>خاکستری</td>\n",
       "    </tr>\n",
       "  </tbody>\n",
       "</table>\n",
       "<p>14881 rows × 1 columns</p>\n",
       "</div>"
      ],
      "text/plain": [
       "         Color\n",
       "16        سفید\n",
       "17        سفید\n",
       "18        سفید\n",
       "20        سفید\n",
       "23        سفید\n",
       "...        ...\n",
       "92382     مشکی\n",
       "92396  خاکستری\n",
       "92397  خاکستری\n",
       "92398  خاکستری\n",
       "92400  خاکستری\n",
       "\n",
       "[14881 rows x 1 columns]"
      ]
     },
     "execution_count": 11,
     "metadata": {},
     "output_type": "execute_result"
    }
   ],
   "source": [
    "df = df_color\n",
    "df"
   ]
  },
  {
   "cell_type": "code",
   "execution_count": 12,
   "id": "9be75ddc",
   "metadata": {},
   "outputs": [
    {
     "data": {
      "text/plain": [
       "{'آبی': 270,\n",
       " 'آلبالویی': 95,\n",
       " 'بادمجانی': 32,\n",
       " 'برنز': 2,\n",
       " 'بنفش': 4,\n",
       " 'بژ': 109,\n",
       " 'تیتانیوم': 119,\n",
       " 'خاکستری': 810,\n",
       " 'خاکی': 10,\n",
       " 'دلفینی': 29,\n",
       " 'ذغالی': 30,\n",
       " 'زرد': 51,\n",
       " 'زرشکی': 16,\n",
       " 'زیتونی': 28,\n",
       " 'سبز': 34,\n",
       " 'سربی': 126,\n",
       " 'سرمه ای': 202,\n",
       " 'سفید': 6887,\n",
       " 'سفید صدفی': 652,\n",
       " 'طلائی': 25,\n",
       " 'طوسی': 3,\n",
       " 'عنابی': 5,\n",
       " 'قرمز': 251,\n",
       " 'قهوه ای': 342,\n",
       " 'مسی': 17,\n",
       " 'مشکی': 3966,\n",
       " 'نارنجی': 19,\n",
       " 'نقرآبی': 15,\n",
       " 'نقره ای': 470,\n",
       " 'نوک مدادی': 131,\n",
       " 'پوست پیازی': 6,\n",
       " 'کربن بلک': 76,\n",
       " 'کرم': 24,\n",
       " 'گیلاسی': 3,\n",
       " 'یشمی': 22}"
      ]
     },
     "execution_count": 12,
     "metadata": {},
     "output_type": "execute_result"
    }
   ],
   "source": [
    "colors, counts = np.unique(df_color[\"Color\"], return_counts=True)\n",
    "dict(zip(colors, counts))"
   ]
  },
  {
   "cell_type": "code",
   "execution_count": 13,
   "id": "eef2abde",
   "metadata": {},
   "outputs": [],
   "source": [
    "# Removing any Color classess with less than 150 images\n",
    "for (color, count) in zip(colors, counts):\n",
    "    if count < 150:\n",
    "        idxs = df[df[\"Color\"] == color].index\n",
    "        df.drop(idxs, inplace=True)"
   ]
  },
  {
   "cell_type": "code",
   "execution_count": 14,
   "id": "9b3a61c9",
   "metadata": {},
   "outputs": [
    {
     "data": {
      "text/html": [
       "<div>\n",
       "<style scoped>\n",
       "    .dataframe tbody tr th:only-of-type {\n",
       "        vertical-align: middle;\n",
       "    }\n",
       "\n",
       "    .dataframe tbody tr th {\n",
       "        vertical-align: top;\n",
       "    }\n",
       "\n",
       "    .dataframe thead th {\n",
       "        text-align: right;\n",
       "    }\n",
       "</style>\n",
       "<table border=\"1\" class=\"dataframe\">\n",
       "  <thead>\n",
       "    <tr style=\"text-align: right;\">\n",
       "      <th></th>\n",
       "      <th>Color</th>\n",
       "    </tr>\n",
       "  </thead>\n",
       "  <tbody>\n",
       "    <tr>\n",
       "      <th>16</th>\n",
       "      <td>سفید</td>\n",
       "    </tr>\n",
       "    <tr>\n",
       "      <th>17</th>\n",
       "      <td>سفید</td>\n",
       "    </tr>\n",
       "    <tr>\n",
       "      <th>18</th>\n",
       "      <td>سفید</td>\n",
       "    </tr>\n",
       "    <tr>\n",
       "      <th>20</th>\n",
       "      <td>سفید</td>\n",
       "    </tr>\n",
       "    <tr>\n",
       "      <th>23</th>\n",
       "      <td>سفید</td>\n",
       "    </tr>\n",
       "    <tr>\n",
       "      <th>...</th>\n",
       "      <td>...</td>\n",
       "    </tr>\n",
       "    <tr>\n",
       "      <th>92382</th>\n",
       "      <td>مشکی</td>\n",
       "    </tr>\n",
       "    <tr>\n",
       "      <th>92396</th>\n",
       "      <td>خاکستری</td>\n",
       "    </tr>\n",
       "    <tr>\n",
       "      <th>92397</th>\n",
       "      <td>خاکستری</td>\n",
       "    </tr>\n",
       "    <tr>\n",
       "      <th>92398</th>\n",
       "      <td>خاکستری</td>\n",
       "    </tr>\n",
       "    <tr>\n",
       "      <th>92400</th>\n",
       "      <td>خاکستری</td>\n",
       "    </tr>\n",
       "  </tbody>\n",
       "</table>\n",
       "<p>13850 rows × 1 columns</p>\n",
       "</div>"
      ],
      "text/plain": [
       "         Color\n",
       "16        سفید\n",
       "17        سفید\n",
       "18        سفید\n",
       "20        سفید\n",
       "23        سفید\n",
       "...        ...\n",
       "92382     مشکی\n",
       "92396  خاکستری\n",
       "92397  خاکستری\n",
       "92398  خاکستری\n",
       "92400  خاکستری\n",
       "\n",
       "[13850 rows x 1 columns]"
      ]
     },
     "execution_count": 14,
     "metadata": {},
     "output_type": "execute_result"
    }
   ],
   "source": [
    "df"
   ]
  },
  {
   "cell_type": "code",
   "execution_count": 15,
   "id": "00394680",
   "metadata": {},
   "outputs": [
    {
     "data": {
      "text/plain": [
       "{'آبی': 270,\n",
       " 'خاکستری': 810,\n",
       " 'سرمه ای': 202,\n",
       " 'سفید': 6887,\n",
       " 'سفید صدفی': 652,\n",
       " 'قرمز': 251,\n",
       " 'قهوه ای': 342,\n",
       " 'مشکی': 3966,\n",
       " 'نقره ای': 470}"
      ]
     },
     "execution_count": 15,
     "metadata": {},
     "output_type": "execute_result"
    }
   ],
   "source": [
    "colors, counts = np.unique(df[\"Color\"], return_counts=True)\n",
    "dict(zip(colors, counts))"
   ]
  },
  {
   "cell_type": "code",
   "execution_count": 16,
   "id": "b51ebe5f",
   "metadata": {},
   "outputs": [],
   "source": [
    "class_names = [\"آبی\" ,\"خاکستری\" ,\"سرمه ای\" ,\"سفید\" ,\"سفید صدفی\" ,\"قرمز\" ,\"قهوه ای\" ,\"مشکی\" ,\"نقره ای\"]"
   ]
  },
  {
   "cell_type": "code",
   "execution_count": 17,
   "id": "279492b9",
   "metadata": {},
   "outputs": [],
   "source": [
    "# initialize our images array \n",
    "IMAGES_PATH = \"C:/Users/Peyton/Documents/WorkShop_Part3/car_images/good_images/outside_cars\"\n",
    "images = []\n",
    "\n",
    "# loop over the indexes of the csv file\n",
    "for i in df.index.values:\n",
    "    basePath = os.path.sep.join([IMAGES_PATH, \"{}.jpg\".format(i + 1)])\n",
    "    image = load_img(basePath, target_size=(224, 224))\n",
    "    image = img_to_array(image)\n",
    "    images.append(image)"
   ]
  },
  {
   "cell_type": "code",
   "execution_count": null,
   "id": "c58cf2ae",
   "metadata": {},
   "outputs": [],
   "source": []
  },
  {
   "cell_type": "code",
   "execution_count": null,
   "id": "33ea0e5a",
   "metadata": {},
   "outputs": [],
   "source": []
  },
  {
   "cell_type": "code",
   "execution_count": null,
   "id": "7cb3515f",
   "metadata": {},
   "outputs": [],
   "source": []
  },
  {
   "cell_type": "code",
   "execution_count": 30,
   "id": "442bbae9",
   "metadata": {},
   "outputs": [],
   "source": [
    "images = np.array(images, dtype=\"float32\")"
   ]
  },
  {
   "cell_type": "code",
   "execution_count": 31,
   "id": "0431b93c",
   "metadata": {},
   "outputs": [],
   "source": [
    "images = images / 255.0"
   ]
  },
  {
   "cell_type": "code",
   "execution_count": 32,
   "id": "dd81e234",
   "metadata": {},
   "outputs": [
    {
     "data": {
      "text/plain": [
       "(13850, 224, 224, 3)"
      ]
     },
     "execution_count": 32,
     "metadata": {},
     "output_type": "execute_result"
    }
   ],
   "source": [
    "images.shape"
   ]
  },
  {
   "cell_type": "code",
   "execution_count": 33,
   "id": "fb5176a6",
   "metadata": {},
   "outputs": [],
   "source": [
    "split = train_test_split(df, images, test_size=0.25, random_state=42)\n",
    "(trainY, testY, trainX, testX) = split"
   ]
  },
  {
   "cell_type": "code",
   "execution_count": 34,
   "id": "6c6ab0f1",
   "metadata": {},
   "outputs": [],
   "source": [
    "zipBinarizer = LabelBinarizer().fit(df[\"Color\"])\n",
    "trainY = zipBinarizer.transform(trainY[\"Color\"])\n",
    "testY = zipBinarizer.transform(testY[\"Color\"])"
   ]
  },
  {
   "cell_type": "code",
   "execution_count": 35,
   "id": "f8179565",
   "metadata": {},
   "outputs": [
    {
     "name": "stdout",
     "output_type": "stream",
     "text": [
      "(10387, 224, 224, 3)\n",
      "(10387, 9)\n"
     ]
    }
   ],
   "source": [
    "print(trainX.shape)\n",
    "print(trainY.shape)"
   ]
  },
  {
   "cell_type": "code",
   "execution_count": null,
   "id": "2d18ab4b",
   "metadata": {},
   "outputs": [],
   "source": []
  },
  {
   "cell_type": "code",
   "execution_count": null,
   "id": "9b790a86",
   "metadata": {},
   "outputs": [],
   "source": []
  },
  {
   "cell_type": "code",
   "execution_count": 36,
   "id": "dd4ea856",
   "metadata": {},
   "outputs": [],
   "source": [
    "data_augmentation = tf.keras.Sequential([\n",
    "    tf.keras.layers.CenterCrop(224,224),\n",
    "    tf.keras.layers.RandomCrop(224,224),\n",
    "    tf.keras.layers.RandomFlip(\"horizontal\", input_shape=(224, 224, 3)),\n",
    "    tf.keras.layers.RandomRotation(0.1),\n",
    "    tf.keras.layers.RandomZoom(0.1),\n",
    "])"
   ]
  },
  {
   "cell_type": "code",
   "execution_count": null,
   "id": "206df37a",
   "metadata": {},
   "outputs": [],
   "source": []
  },
  {
   "cell_type": "code",
   "execution_count": 38,
   "id": "d23d300a",
   "metadata": {},
   "outputs": [],
   "source": [
    "model = tf.keras.Sequential([\n",
    "  data_augmentation,\n",
    "  tf.keras.layers.Conv2D(32, (3, 3), activation='relu', input_shape=(224, 224, 3)),\n",
    "  tf.keras.layers.Conv2D(32, (3, 3), activation='relu'),\n",
    "  tf.keras.layers.MaxPooling2D((2, 2)),\n",
    "  tf.keras.layers.Dropout(0.5),\n",
    "\n",
    "  tf.keras.layers.Conv2D(64, (3, 3), activation='relu'),\n",
    "  tf.keras.layers.Conv2D(64, (3, 3), activation='relu'),\n",
    "  tf.keras.layers.MaxPooling2D((2, 2)),\n",
    "  tf.keras.layers.Dropout(0.5),\n",
    "  \n",
    "  tf.keras.layers.Conv2D(128, (3, 3), activation='relu'),\n",
    "  tf.keras.layers.Conv2D(64, (3, 3), activation='relu'),\n",
    "  tf.keras.layers.MaxPooling2D((2, 2)),\n",
    "  tf.keras.layers.Dropout(0.5),\n",
    "    \n",
    "  tf.keras.layers.Flatten(),\n",
    "  tf.keras.layers.Dense(128, activation='relu'),\n",
    "  tf.keras.layers.Dense(512, activation='relu'),\n",
    "  tf.keras.layers.Dropout(0.5),\n",
    "  tf.keras.layers.Dense(9, activation='softmax'),\n",
    "])"
   ]
  },
  {
   "cell_type": "code",
   "execution_count": 40,
   "id": "8c69f90b",
   "metadata": {},
   "outputs": [
    {
     "name": "stderr",
     "output_type": "stream",
     "text": [
      "F:\\anaconda3\\lib\\site-packages\\keras\\optimizers\\optimizer_v2\\rmsprop.py:135: UserWarning: The `lr` argument is deprecated, use `learning_rate` instead.\n",
      "  super(RMSprop, self).__init__(name, **kwargs)\n"
     ]
    }
   ],
   "source": [
    "model.compile(loss=tf.keras.losses.categorical_crossentropy,\n",
    "              optimizer=tf.keras.optimizers.RMSprop(lr=1e-4),\n",
    "              metrics=['accuracy'])"
   ]
  },
  {
   "cell_type": "code",
   "execution_count": null,
   "id": "29763816",
   "metadata": {},
   "outputs": [],
   "source": [
    "history = model.fit(\n",
    "        trainX, trainY,\n",
    "        validation_data=(testX, testY),\n",
    "        batch_size=32,\n",
    "        epochs=10,\n",
    "        verbose=1)"
   ]
  },
  {
   "cell_type": "code",
   "execution_count": null,
   "id": "af6abe98",
   "metadata": {},
   "outputs": [],
   "source": []
  },
  {
   "cell_type": "code",
   "execution_count": null,
   "id": "75c3eff8",
   "metadata": {},
   "outputs": [],
   "source": []
  },
  {
   "cell_type": "code",
   "execution_count": null,
   "id": "ad302ce8",
   "metadata": {},
   "outputs": [],
   "source": []
  },
  {
   "cell_type": "code",
   "execution_count": 25,
   "id": "021b7592",
   "metadata": {},
   "outputs": [],
   "source": [
    "from keras.applications.vgg16 import VGG16\n",
    "\n",
    "conv_base = VGG16(weights='imagenet',\n",
    "                  include_top=False,\n",
    "                  input_shape=(224, 224, 3))"
   ]
  },
  {
   "cell_type": "code",
   "execution_count": 26,
   "id": "e0712d51",
   "metadata": {},
   "outputs": [],
   "source": [
    "# freezeing vgg16 model\n",
    "conv_base.trainable = False"
   ]
  },
  {
   "cell_type": "code",
   "execution_count": 27,
   "id": "cf401a65",
   "metadata": {},
   "outputs": [],
   "source": [
    "conv_base.trainable = True\n",
    "\n",
    "set_trainable = False\n",
    "for layer in conv_base.layers:\n",
    "    if layer.name == 'block5_conv1':\n",
    "        set_trainable = True\n",
    "    if set_trainable:\n",
    "        layer.trainable = True\n",
    "    else:\n",
    "        layer.trainable = False"
   ]
  },
  {
   "cell_type": "code",
   "execution_count": 28,
   "id": "c3a1ef07",
   "metadata": {},
   "outputs": [],
   "source": [
    "INPUT = tf.keras.layers.Input(shape=(224, 224, 3))\n",
    "x = tf.keras.applications.vgg16.preprocess_input(INPUT)\n",
    "x = data_augmentation(x)\n",
    "x = conv_base(x, training=False)\n",
    "x = tf.keras.layers.GlobalAveragePooling2D()(x)\n",
    "OUTPUT = tf.keras.layers.Dense(9)(x)\n",
    "\n",
    "model = tf.keras.Model(inputs=[INPUT], outputs=[OUTPUT])"
   ]
  },
  {
   "cell_type": "code",
   "execution_count": 29,
   "id": "7118b38d",
   "metadata": {},
   "outputs": [
    {
     "name": "stdout",
     "output_type": "stream",
     "text": [
      "Model: \"model\"\n",
      "_________________________________________________________________\n",
      " Layer (type)                Output Shape              Param #   \n",
      "=================================================================\n",
      " input_2 (InputLayer)        [(None, 224, 224, 3)]     0         \n",
      "                                                                 \n",
      " tf.__operators__.getitem (S  (None, 224, 224, 3)      0         \n",
      " licingOpLambda)                                                 \n",
      "                                                                 \n",
      " tf.nn.bias_add (TFOpLambda)  (None, 224, 224, 3)      0         \n",
      "                                                                 \n",
      " sequential (Sequential)     (None, 224, 224, 3)       0         \n",
      "                                                                 \n",
      " vgg16 (Functional)          (None, 7, 7, 512)         14714688  \n",
      "                                                                 \n",
      " global_average_pooling2d (G  (None, 512)              0         \n",
      " lobalAveragePooling2D)                                          \n",
      "                                                                 \n",
      " dense (Dense)               (None, 9)                 4617      \n",
      "                                                                 \n",
      "=================================================================\n",
      "Total params: 14,719,305\n",
      "Trainable params: 7,084,041\n",
      "Non-trainable params: 7,635,264\n",
      "_________________________________________________________________\n"
     ]
    }
   ],
   "source": [
    "model.summary()"
   ]
  },
  {
   "cell_type": "code",
   "execution_count": 30,
   "id": "968cafbe",
   "metadata": {},
   "outputs": [
    {
     "name": "stderr",
     "output_type": "stream",
     "text": [
      "F:\\anaconda3\\lib\\site-packages\\keras\\optimizers\\optimizer_v2\\rmsprop.py:135: UserWarning: The `lr` argument is deprecated, use `learning_rate` instead.\n",
      "  super(RMSprop, self).__init__(name, **kwargs)\n"
     ]
    }
   ],
   "source": [
    "optimizer = tf.keras.optimizers.RMSprop(lr=2e-5)\n",
    "model.compile(optimizer=optimizer,\n",
    "             loss=tf.keras.losses.CategoricalCrossentropy(from_logits=True),\n",
    "             metrics=['accuracy'])"
   ]
  },
  {
   "cell_type": "code",
   "execution_count": 31,
   "id": "4be7582e",
   "metadata": {},
   "outputs": [
    {
     "name": "stdout",
     "output_type": "stream",
     "text": [
      "Epoch 1/10\n",
      "325/325 [==============================] - 1013s 3s/step - loss: 1.4864 - accuracy: 0.4887 - val_loss: 1.3561 - val_accuracy: 0.5692\n",
      "Epoch 2/10\n",
      "325/325 [==============================] - 1000s 3s/step - loss: 1.3402 - accuracy: 0.5542 - val_loss: 1.2688 - val_accuracy: 0.6206\n",
      "Epoch 3/10\n",
      "325/325 [==============================] - 1016s 3s/step - loss: 1.2834 - accuracy: 0.5892 - val_loss: 1.2036 - val_accuracy: 0.6451\n",
      "Epoch 4/10\n",
      "325/325 [==============================] - 1066s 3s/step - loss: 1.2380 - accuracy: 0.6164 - val_loss: 1.1658 - val_accuracy: 0.6532\n",
      "Epoch 5/10\n",
      "325/325 [==============================] - 1070s 3s/step - loss: 1.2066 - accuracy: 0.6277 - val_loss: 1.3028 - val_accuracy: 0.5643\n",
      "Epoch 6/10\n",
      "325/325 [==============================] - 1059s 3s/step - loss: 1.1932 - accuracy: 0.6382 - val_loss: 1.1139 - val_accuracy: 0.6728\n",
      "Epoch 7/10\n",
      "325/325 [==============================] - 1070s 3s/step - loss: 1.1694 - accuracy: 0.6407 - val_loss: 1.1567 - val_accuracy: 0.6486\n",
      "Epoch 8/10\n",
      "325/325 [==============================] - 1072s 3s/step - loss: 1.1550 - accuracy: 0.6483 - val_loss: 1.0928 - val_accuracy: 0.6829\n",
      "Epoch 9/10\n",
      "325/325 [==============================] - 1043s 3s/step - loss: 1.1470 - accuracy: 0.6521 - val_loss: 1.2275 - val_accuracy: 0.6151\n",
      "Epoch 10/10\n",
      "325/325 [==============================] - 1033s 3s/step - loss: 1.1298 - accuracy: 0.6589 - val_loss: 1.0953 - val_accuracy: 0.6711\n"
     ]
    }
   ],
   "source": [
    "history = model.fit(\n",
    "                   trainX, trainY,\n",
    "                   validation_data=(testX, testY),\n",
    "                   batch_size=32,\n",
    "                   epochs=10)"
   ]
  },
  {
   "cell_type": "code",
   "execution_count": 32,
   "id": "c8dfd2de",
   "metadata": {},
   "outputs": [
    {
     "data": {
      "image/png": "[encoded data removed]",
      "text/plain": [
       "<Figure size 432x288 with 1 Axes>"
      ]
     },
     "metadata": {
      "needs_background": "light"
     },
     "output_type": "display_data"
    }
   ],
   "source": [
    "def plot_hist(hist):\n",
    "    plt.plot(hist.history[\"accuracy\"])\n",
    "    plt.plot(hist.history[\"val_accuracy\"])\n",
    "    plt.plot(hist.history[\"loss\"])\n",
    "    plt.plot(hist.history[\"val_loss\"])\n",
    "    plt.title(\"Training Progress\")\n",
    "    plt.ylabel(\"Accuracy/Loss\")\n",
    "    plt.xlabel(\"Epochs\")\n",
    "    plt.legend([\"train_acc\", \"val_acc\", \"train_loss\", \"val_loss\"], loc=\"upper left\")\n",
    "    plt.show()\n",
    "\n",
    "\n",
    "plot_hist(history)"
   ]
  },
  {
   "cell_type": "code",
   "execution_count": 66,
   "id": "a5e598b0",
   "metadata": {},
   "outputs": [
    {
     "name": "stdout",
     "output_type": "stream",
     "text": [
      "1/1 [==============================] - 0s 65ms/step\n",
      "[[-0.24058507  0.43815    -0.2045364   1.0489683  -1.2909     -0.62137043\n",
      "  -0.11928781  2.7250223  -0.280091  ]]\n",
      "1/1 [==============================] - 0s 69ms/step\n",
      "[[-0.24058507  0.43815    -0.2045364   1.0489683  -1.2909     -0.62137043\n",
      "  -0.11928781  2.7250223  -0.280091  ]]\n",
      "[7]\n"
     ]
    }
   ],
   "source": [
    "#img_path = 'D:/dataset/catDog/catVsdog/test/cats/cat.1592.jpg'\n",
    "img_path = 'C:/Users/Peyton/Downloads/car2.jpg'\n",
    "\n",
    "img = load_img(img_path, target_size=(224, 224))\n",
    "# plt.plot(img)\n",
    "x = img_to_array(img)\n",
    "x /= 255.\n",
    "x = np.expand_dims(x, axis=0)\n",
    "print(model.predict(x))\n",
    "# print(model.predict_classes(x))\n",
    "# print(np.argmax(x,axis=1))\n",
    "# from tensorflow import keras\n",
    "# sqntl = keras.Sequential()\n",
    "# prediction = sqntl.predict_classes(x)\n",
    "# print(prediction)\n",
    "\n",
    "predict_x = model.predict(x)\n",
    "print(predict_x) \n",
    "classes_x = np.argmax(predict_x, axis=1)\n",
    "print(classes_x)"
   ]
  },
  {
   "cell_type": "code",
   "execution_count": 63,
   "id": "9b39826d",
   "metadata": {},
   "outputs": [
    {
     "data": {
      "text/plain": [
       "'مشکی'"
      ]
     },
     "execution_count": 63,
     "metadata": {},
     "output_type": "execute_result"
    }
   ],
   "source": [
    "class_names[7]"
   ]
  },
  {
   "cell_type": "code",
   "execution_count": 60,
   "id": "8887c636",
   "metadata": {},
   "outputs": [
    {
     "data": {
      "text/html": [
       "<div>\n",
       "<style scoped>\n",
       "    .dataframe tbody tr th:only-of-type {\n",
       "        vertical-align: middle;\n",
       "    }\n",
       "\n",
       "    .dataframe tbody tr th {\n",
       "        vertical-align: top;\n",
       "    }\n",
       "\n",
       "    .dataframe thead th {\n",
       "        text-align: right;\n",
       "    }\n",
       "</style>\n",
       "<table border=\"1\" class=\"dataframe\">\n",
       "  <thead>\n",
       "    <tr style=\"text-align: right;\">\n",
       "      <th></th>\n",
       "      <th>Color</th>\n",
       "    </tr>\n",
       "  </thead>\n",
       "  <tbody>\n",
       "    <tr>\n",
       "      <th>5980</th>\n",
       "      <td>سفید</td>\n",
       "    </tr>\n",
       "    <tr>\n",
       "      <th>5981</th>\n",
       "      <td>سفید</td>\n",
       "    </tr>\n",
       "    <tr>\n",
       "      <th>5983</th>\n",
       "      <td>مشکی</td>\n",
       "    </tr>\n",
       "    <tr>\n",
       "      <th>5984</th>\n",
       "      <td>مشکی</td>\n",
       "    </tr>\n",
       "    <tr>\n",
       "      <th>5986</th>\n",
       "      <td>آبی</td>\n",
       "    </tr>\n",
       "    <tr>\n",
       "      <th>5987</th>\n",
       "      <td>آبی</td>\n",
       "    </tr>\n",
       "    <tr>\n",
       "      <th>5988</th>\n",
       "      <td>آبی</td>\n",
       "    </tr>\n",
       "    <tr>\n",
       "      <th>5989</th>\n",
       "      <td>آبی</td>\n",
       "    </tr>\n",
       "    <tr>\n",
       "      <th>5997</th>\n",
       "      <td>سفید</td>\n",
       "    </tr>\n",
       "    <tr>\n",
       "      <th>5998</th>\n",
       "      <td>سفید</td>\n",
       "    </tr>\n",
       "    <tr>\n",
       "      <th>6001</th>\n",
       "      <td>سفید</td>\n",
       "    </tr>\n",
       "    <tr>\n",
       "      <th>6002</th>\n",
       "      <td>سفید</td>\n",
       "    </tr>\n",
       "    <tr>\n",
       "      <th>6003</th>\n",
       "      <td>سفید</td>\n",
       "    </tr>\n",
       "    <tr>\n",
       "      <th>6004</th>\n",
       "      <td>سفید</td>\n",
       "    </tr>\n",
       "    <tr>\n",
       "      <th>6005</th>\n",
       "      <td>سفید</td>\n",
       "    </tr>\n",
       "    <tr>\n",
       "      <th>6006</th>\n",
       "      <td>سفید</td>\n",
       "    </tr>\n",
       "    <tr>\n",
       "      <th>6007</th>\n",
       "      <td>سفید</td>\n",
       "    </tr>\n",
       "    <tr>\n",
       "      <th>6014</th>\n",
       "      <td>نقره ای</td>\n",
       "    </tr>\n",
       "    <tr>\n",
       "      <th>6016</th>\n",
       "      <td>آبی</td>\n",
       "    </tr>\n",
       "    <tr>\n",
       "      <th>6027</th>\n",
       "      <td>سرمه ای</td>\n",
       "    </tr>\n",
       "  </tbody>\n",
       "</table>\n",
       "</div>"
      ],
      "text/plain": [
       "        Color\n",
       "5980     سفید\n",
       "5981     سفید\n",
       "5983     مشکی\n",
       "5984     مشکی\n",
       "5986      آبی\n",
       "5987      آبی\n",
       "5988      آبی\n",
       "5989      آبی\n",
       "5997     سفید\n",
       "5998     سفید\n",
       "6001     سفید\n",
       "6002     سفید\n",
       "6003     سفید\n",
       "6004     سفید\n",
       "6005     سفید\n",
       "6006     سفید\n",
       "6007     سفید\n",
       "6014  نقره ای\n",
       "6016      آبی\n",
       "6027  سرمه ای"
      ]
     },
     "execution_count": 60,
     "metadata": {},
     "output_type": "execute_result"
    }
   ],
   "source": [
    "df[1000:1020]"
   ]
  },
  {
   "cell_type": "code",
   "execution_count": 69,
   "id": "2479a142",
   "metadata": {},
   "outputs": [
    {
     "data": {
      "text/plain": [
       "array([0, 0, 0, 0, 0, 0, 0, 0, 1])"
      ]
     },
     "execution_count": 69,
     "metadata": {},
     "output_type": "execute_result"
    }
   ],
   "source": [
    "# blue\n",
    "trainY[6016]"
   ]
  },
  {
   "cell_type": "code",
   "execution_count": 70,
   "id": "4e575d34",
   "metadata": {},
   "outputs": [
    {
     "data": {
      "text/plain": [
       "array([0, 0, 0, 0, 0, 0, 0, 1, 0])"
      ]
     },
     "execution_count": 70,
     "metadata": {},
     "output_type": "execute_result"
    }
   ],
   "source": [
    "# white\n",
    "trainY[6003]"
   ]
  },
  {
   "cell_type": "code",
   "execution_count": 68,
   "id": "fd3de295",
   "metadata": {},
   "outputs": [
    {
     "data": {
      "text/plain": [
       "array([0, 0, 0, 0, 0, 0, 0, 1, 0])"
      ]
     },
     "execution_count": 68,
     "metadata": {},
     "output_type": "execute_result"
    }
   ],
   "source": [
    "# black\n",
    "trainY[5983]"
   ]
  },
  {
   "cell_type": "code",
   "execution_count": 42,
   "id": "e55d7e2d",
   "metadata": {},
   "outputs": [
    {
     "data": {
      "text/plain": [
       "numpy.ndarray"
      ]
     },
     "execution_count": 42,
     "metadata": {},
     "output_type": "execute_result"
    }
   ],
   "source": [
    "type(trainY)"
   ]
  },
  {
   "cell_type": "code",
   "execution_count": 48,
   "id": "4a6f22a5",
   "metadata": {},
   "outputs": [
    {
     "data": {
      "text/plain": [
       "array([[0, 0, 0, ..., 0, 0, 0],\n",
       "       [0, 0, 0, ..., 0, 0, 0],\n",
       "       [0, 0, 0, ..., 0, 0, 0],\n",
       "       ...,\n",
       "       [0, 0, 0, ..., 0, 0, 0],\n",
       "       [0, 0, 0, ..., 0, 0, 0],\n",
       "       [0, 0, 0, ..., 0, 0, 0]])"
      ]
     },
     "execution_count": 48,
     "metadata": {},
     "output_type": "execute_result"
    }
   ],
   "source": [
    "trainY"
   ]
  },
  {
   "cell_type": "code",
   "execution_count": 71,
   "id": "ce996ddf",
   "metadata": {},
   "outputs": [],
   "source": [
    "import tensorflow as tf\n",
    "import numpy as np\n",
    "import csv\n",
    "import pandas as pd\n",
    "import os\n",
    "import pathlib\n",
    "from tensorflow.keras import layers\n",
    "import matplotlib.pyplot as plt\n",
    "from tensorflow.data import AUTOTUNE\n",
    "from tensorflow.keras.callbacks import LearningRateScheduler\n",
    "from sklearn.metrics import confusion_matrix, precision_score, recall_score, accuracy_score, classification_report"
   ]
  },
  {
   "cell_type": "code",
   "execution_count": 72,
   "id": "5418036a",
   "metadata": {},
   "outputs": [
    {
     "ename": "NameError",
     "evalue": "name 'test_ds' is not defined",
     "output_type": "error",
     "traceback": [
      "\u001b[1;31m---------------------------------------------------------------------------\u001b[0m",
      "\u001b[1;31mNameError\u001b[0m                                 Traceback (most recent call last)",
      "\u001b[1;32m~\\AppData\\Local\\Temp/ipykernel_16092/3486898077.py\u001b[0m in \u001b[0;36m<module>\u001b[1;34m\u001b[0m\n\u001b[0;32m     14\u001b[0m     \u001b[1;32mreturn\u001b[0m \u001b[0mnp\u001b[0m\u001b[1;33m.\u001b[0m\u001b[0marray\u001b[0m\u001b[1;33m(\u001b[0m\u001b[0mlabels\u001b[0m\u001b[1;33m)\u001b[0m \u001b[1;33m,\u001b[0m\u001b[0mnp\u001b[0m\u001b[1;33m.\u001b[0m\u001b[0marray\u001b[0m\u001b[1;33m(\u001b[0m\u001b[0mpreds\u001b[0m\u001b[1;33m)\u001b[0m\u001b[1;33m\u001b[0m\u001b[1;33m\u001b[0m\u001b[0m\n\u001b[0;32m     15\u001b[0m \u001b[1;33m\u001b[0m\u001b[0m\n\u001b[1;32m---> 16\u001b[1;33m \u001b[0mLabels\u001b[0m  \u001b[1;33m,\u001b[0m\u001b[0mPredictios\u001b[0m \u001b[1;33m=\u001b[0m \u001b[0mget_labels_and_predictions\u001b[0m\u001b[1;33m(\u001b[0m\u001b[0mtest_ds\u001b[0m\u001b[1;33m)\u001b[0m\u001b[1;33m\u001b[0m\u001b[1;33m\u001b[0m\u001b[0m\n\u001b[0m",
      "\u001b[1;31mNameError\u001b[0m: name 'test_ds' is not defined"
     ]
    }
   ],
   "source": [
    "def get_labels_and_predictions(test_dataset) :\n",
    "    labels = []\n",
    "    preds  = []\n",
    "    for item in test_dataset.take(-1) :\n",
    "      image_batch = item[0]\n",
    "      label_batch = item[1]\n",
    "      y_pred= model.predict(image_batch)\n",
    "      for y in np.array(y_pred) :\n",
    "          preds.append(y.argmax())\n",
    "\n",
    "      for lbl in np.array(label_batch) :\n",
    "          labels.append(lbl.argmax())\n",
    "\n",
    "    return np.array(labels) ,np.array(preds)\n",
    "\n",
    "Labels  ,Predictios = get_labels_and_predictions(test_ds)"
   ]
  },
  {
   "cell_type": "code",
   "execution_count": null,
   "id": "f31f00d7",
   "metadata": {},
   "outputs": [],
   "source": []
  },
  {
   "cell_type": "code",
   "execution_count": null,
   "id": "8ee144a0",
   "metadata": {},
   "outputs": [],
   "source": []
  },
  {
   "cell_type": "code",
   "execution_count": null,
   "id": "7700bfac",
   "metadata": {},
   "outputs": [],
   "source": []
  },
  {
   "cell_type": "code",
   "execution_count": null,
   "id": "34576596",
   "metadata": {},
   "outputs": [],
   "source": []
  },
  {
   "cell_type": "code",
   "execution_count": null,
   "id": "e0b3ff5d",
   "metadata": {},
   "outputs": [],
   "source": []
  },
  {
   "cell_type": "code",
   "execution_count": 31,
   "id": "7230fe1f",
   "metadata": {},
   "outputs": [],
   "source": [
    "model = tf.keras.Sequential([\n",
    "  tf.keras.layers.Conv2D(32, (3, 3), activation='relu', input_shape=(224, 224, 3)),\n",
    "  tf.keras.layers.MaxPooling2D((2, 2)),\n",
    "#   tf.keras.layers.Dropout(0.5),\n",
    "  tf.keras.layers.Conv2D(64, (3, 3), activation='relu'),\n",
    "  tf.keras.layers.MaxPooling2D((2, 2)),\n",
    "#   tf.keras.layers.Dropout(0.5),\n",
    "  tf.keras.layers.Conv2D(128, (3, 3), activation='relu'),\n",
    "  tf.keras.layers.MaxPooling2D((2, 2)),\n",
    "#   tf.keras.layers.Dropout(0.5),\n",
    "  tf.keras.layers.Conv2D(128, (3, 3), activation='relu'),\n",
    "  tf.keras.layers.MaxPooling2D((2, 2)),\n",
    "#   tf.keras.layers.Dropout(0.5),\n",
    "  tf.keras.layers.Flatten(),\n",
    "  tf.keras.layers.Dropout(0.5),\n",
    "  tf.keras.layers.Dense(512, activation='relu'),\n",
    "#   tf.keras.layers.Dropout(0.5),\n",
    "  tf.keras.layers.Dense(9, activation='softmax'),\n",
    "])"
   ]
  },
  {
   "cell_type": "code",
   "execution_count": 32,
   "id": "b25873b1",
   "metadata": {},
   "outputs": [
    {
     "name": "stdout",
     "output_type": "stream",
     "text": [
      "Model: \"sequential\"\n",
      "_________________________________________________________________\n",
      " Layer (type)                Output Shape              Param #   \n",
      "=================================================================\n",
      " conv2d (Conv2D)             (None, 222, 222, 32)      896       \n",
      "                                                                 \n",
      " max_pooling2d (MaxPooling2D  (None, 111, 111, 32)     0         \n",
      " )                                                               \n",
      "                                                                 \n",
      " conv2d_1 (Conv2D)           (None, 109, 109, 64)      18496     \n",
      "                                                                 \n",
      " max_pooling2d_1 (MaxPooling  (None, 54, 54, 64)       0         \n",
      " 2D)                                                             \n",
      "                                                                 \n",
      " conv2d_2 (Conv2D)           (None, 52, 52, 128)       73856     \n",
      "                                                                 \n",
      " max_pooling2d_2 (MaxPooling  (None, 26, 26, 128)      0         \n",
      " 2D)                                                             \n",
      "                                                                 \n",
      " conv2d_3 (Conv2D)           (None, 24, 24, 128)       147584    \n",
      "                                                                 \n",
      " max_pooling2d_3 (MaxPooling  (None, 12, 12, 128)      0         \n",
      " 2D)                                                             \n",
      "                                                                 \n",
      " flatten (Flatten)           (None, 18432)             0         \n",
      "                                                                 \n",
      " dropout (Dropout)           (None, 18432)             0         \n",
      "                                                                 \n",
      " dense (Dense)               (None, 512)               9437696   \n",
      "                                                                 \n",
      " dense_1 (Dense)             (None, 9)                 4617      \n",
      "                                                                 \n",
      "=================================================================\n",
      "Total params: 9,683,145\n",
      "Trainable params: 9,683,145\n",
      "Non-trainable params: 0\n",
      "_________________________________________________________________\n"
     ]
    }
   ],
   "source": [
    "model.summary()"
   ]
  },
  {
   "cell_type": "code",
   "execution_count": 33,
   "id": "c7984d9e",
   "metadata": {},
   "outputs": [
    {
     "name": "stderr",
     "output_type": "stream",
     "text": [
      "F:\\anaconda3\\lib\\site-packages\\keras\\optimizers\\optimizer_v2\\rmsprop.py:135: UserWarning: The `lr` argument is deprecated, use `learning_rate` instead.\n",
      "  super(RMSprop, self).__init__(name, **kwargs)\n"
     ]
    }
   ],
   "source": [
    "model.compile(loss=tf.keras.losses.categorical_crossentropy,\n",
    "              optimizer=tf.keras.optimizers.RMSprop(lr=1e-4),\n",
    "              metrics=['accuracy'])"
   ]
  },
  {
   "cell_type": "code",
   "execution_count": 34,
   "id": "cebccad5",
   "metadata": {},
   "outputs": [
    {
     "name": "stdout",
     "output_type": "stream",
     "text": [
      "Epoch 1/10\n",
      "325/325 [==============================] - 328s 981ms/step - loss: 1.0810 - accuracy: 0.6836 - val_loss: 0.8986 - val_accuracy: 0.7346\n",
      "Epoch 2/10\n",
      "325/325 [==============================] - 303s 932ms/step - loss: 0.8338 - accuracy: 0.7508 - val_loss: 0.7900 - val_accuracy: 0.7618\n",
      "Epoch 3/10\n",
      "325/325 [==============================] - 303s 933ms/step - loss: 0.7350 - accuracy: 0.7695 - val_loss: 0.7347 - val_accuracy: 0.7779\n",
      "Epoch 4/10\n",
      "325/325 [==============================] - 304s 936ms/step - loss: 0.6638 - accuracy: 0.7875 - val_loss: 0.6955 - val_accuracy: 0.7840\n",
      "Epoch 5/10\n",
      "325/325 [==============================] - 303s 933ms/step - loss: 0.6040 - accuracy: 0.8037 - val_loss: 0.7339 - val_accuracy: 0.7736\n",
      "Epoch 6/10\n",
      "325/325 [==============================] - 303s 932ms/step - loss: 0.5493 - accuracy: 0.8215 - val_loss: 0.7641 - val_accuracy: 0.7774\n",
      "Epoch 7/10\n",
      "325/325 [==============================] - 320s 984ms/step - loss: 0.5021 - accuracy: 0.8358 - val_loss: 0.6825 - val_accuracy: 0.7993\n",
      "Epoch 8/10\n",
      "325/325 [==============================] - 334s 1s/step - loss: 0.4586 - accuracy: 0.8475 - val_loss: 0.7514 - val_accuracy: 0.7906\n",
      "Epoch 9/10\n",
      "325/325 [==============================] - 332s 1s/step - loss: 0.4177 - accuracy: 0.8618 - val_loss: 0.6980 - val_accuracy: 0.8033\n",
      "Epoch 10/10\n",
      "325/325 [==============================] - 326s 1s/step - loss: 0.3742 - accuracy: 0.8773 - val_loss: 0.7318 - val_accuracy: 0.8068\n"
     ]
    }
   ],
   "source": [
    "history = model.fit(\n",
    "        trainX, trainY,\n",
    "        validation_data=(testX, testY),\n",
    "        batch_size=32,\n",
    "        epochs=10,\n",
    "        verbose=1)"
   ]
  },
  {
   "cell_type": "code",
   "execution_count": null,
   "id": "83141085",
   "metadata": {},
   "outputs": [],
   "source": [
    "# Unable to allocate 5.82 GiB for an array with shape (10387, 224, 224, 3) and data type float32\n"
   ]
  },
  {
   "cell_type": "code",
   "execution_count": 35,
   "id": "c8b43ef4",
   "metadata": {},
   "outputs": [
    {
     "data": {
      "image/png": "[encoded data removed]",
      "text/plain": [
       "<Figure size 432x288 with 1 Axes>"
      ]
     },
     "metadata": {
      "needs_background": "light"
     },
     "output_type": "display_data"
    }
   ],
   "source": [
    "def plot_hist(hist):\n",
    "    plt.plot(hist.history[\"accuracy\"])\n",
    "    plt.plot(hist.history[\"val_accuracy\"])\n",
    "    plt.plot(hist.history[\"loss\"])\n",
    "    plt.plot(hist.history[\"val_loss\"])\n",
    "    plt.title(\"Training Progress\")\n",
    "    plt.ylabel(\"Accuracy/Loss\")\n",
    "    plt.xlabel(\"Epochs\")\n",
    "    plt.legend([\"train_acc\", \"val_acc\", \"train_loss\", \"val_loss\"], loc=\"upper left\")\n",
    "    plt.show()\n",
    "\n",
    "\n",
    "plot_hist(history)"
   ]
  },
  {
   "cell_type": "code",
   "execution_count": 44,
   "id": "809cbcfa",
   "metadata": {},
   "outputs": [
    {
     "name": "stdout",
     "output_type": "stream",
     "text": [
      "1/1 [==============================] - 0s 53ms/step\n",
      "[[9.9974352e-01 5.5805862e-07 1.4723571e-04 4.6425903e-06 9.0335823e-07\n",
      "  2.1251211e-08 7.6044131e-09 9.3947478e-05 9.2058744e-06]]\n",
      "1/1 [==============================] - 0s 36ms/step\n",
      "[[9.9974352e-01 5.5805862e-07 1.4723571e-04 4.6425903e-06 9.0335823e-07\n",
      "  2.1251211e-08 7.6044131e-09 9.3947478e-05 9.2058744e-06]]\n",
      "[0]\n"
     ]
    }
   ],
   "source": [
    "#img_path = 'D:/dataset/catDog/catVsdog/test/cats/cat.1592.jpg'\n",
    "img_path = 'C:/Users/Peyton/Downloads/car3.jpg'\n",
    "\n",
    "img = load_img(img_path, target_size=(224, 224))\n",
    "# plt.plot(img)\n",
    "x = img_to_array(img)\n",
    "x /= 255.\n",
    "x = np.expand_dims(x, axis=0)\n",
    "print(model.predict(x))\n",
    "# print(model.predict_classes(x))\n",
    "# print(np.argmax(x,axis=1))\n",
    "# from tensorflow import keras\n",
    "# sqntl = keras.Sequential()\n",
    "# prediction = sqntl.predict_classes(x)\n",
    "# print(prediction)\n",
    "\n",
    "predict_x = model.predict(x)\n",
    "print(predict_x) \n",
    "classes_x = np.argmax(predict_x, axis=1)\n",
    "print(classes_x) "
   ]
  },
  {
   "cell_type": "code",
   "execution_count": 43,
   "id": "45493e23",
   "metadata": {},
   "outputs": [
    {
     "ename": "NameError",
     "evalue": "name 'classes_name' is not defined",
     "output_type": "error",
     "traceback": [
      "\u001b[1;31m---------------------------------------------------------------------------\u001b[0m",
      "\u001b[1;31mNameError\u001b[0m                                 Traceback (most recent call last)",
      "\u001b[1;32m~\\AppData\\Local\\Temp/ipykernel_18516/814279136.py\u001b[0m in \u001b[0;36m<module>\u001b[1;34m\u001b[0m\n\u001b[1;32m----> 1\u001b[1;33m \u001b[0mclasses_name\u001b[0m\u001b[1;33m[\u001b[0m\u001b[1;36m7\u001b[0m\u001b[1;33m]\u001b[0m\u001b[1;33m\u001b[0m\u001b[1;33m\u001b[0m\u001b[0m\n\u001b[0m",
      "\u001b[1;31mNameError\u001b[0m: name 'classes_name' is not defined"
     ]
    }
   ],
   "source": [
    "classes_name[7]"
   ]
  },
  {
   "cell_type": "code",
   "execution_count": null,
   "id": "ccd5d5b6",
   "metadata": {},
   "outputs": [],
   "source": []
  }
 ],
 "metadata": {
  "kernelspec": {
   "display_name": "Python 3 (ipykernel)",
   "language": "python",
   "name": "python3"
  },
  "language_info": {
   "codemirror_mode": {
    "name": "ipython",
    "version": 3
   },
   "file_extension": ".py",
   "mimetype": "text/x-python",
   "name": "python",
   "nbconvert_exporter": "python",
   "pygments_lexer": "ipython3",
   "version": "3.9.7"
  }
 },
 "nbformat": 4,
 "nbformat_minor": 5
}
